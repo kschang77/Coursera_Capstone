{
    "cells": [
        {
            "metadata": {},
            "cell_type": "code",
            "source": "import pandas as pd\nimport numpy as np",
            "execution_count": 1,
            "outputs": []
        },
        {
            "metadata": {},
            "cell_type": "markdown",
            "source": "# This notebook is for the IBM Data Science Capstone Project by Kasey Chang started 2020-02-12 1436"
        },
        {
            "metadata": {},
            "cell_type": "code",
            "source": "print('Hello Capstone Project Course!')",
            "execution_count": 2,
            "outputs": [
                {
                    "output_type": "stream",
                    "text": "Hello Capstone Project Course!\n",
                    "name": "stdout"
                }
            ]
        },
        {
            "metadata": {},
            "cell_type": "code",
            "source": "#install beautifulsoup4 if needed\n#!pip install beautifulsoup4",
            "execution_count": 3,
            "outputs": []
        },
        {
            "metadata": {},
            "cell_type": "markdown",
            "source": "### Set webpage source and import that content into scraped \n\n### then filter with BeautifulSoup with html parser, find the first table with class wikitable, using [0]"
        },
        {
            "metadata": {},
            "cell_type": "code",
            "source": "source_html=\"https://en.wikipedia.org/wiki/List_of_postal_codes_of_Canada:_M\"\n\nfrom bs4 import BeautifulSoup\nimport requests\n\nres = requests.get(source_html)\n\nscraped = res.content\n\nsoup = BeautifulSoup(scraped,\"html.parser\")\n\ntable=soup.findAll(\"table\",{\"class\":\"wikitable\"})[0]",
            "execution_count": 4,
            "outputs": []
        },
        {
            "metadata": {},
            "cell_type": "markdown",
            "source": "### We use this table parser to look for the table headers TH and use them as column names, make sure to use strip to take out misc \\n and such\n\n### Then we look for the table contents by looking for TR and TD, also use strip to clean up the misc \\n that can be found"
        },
        {
            "metadata": {},
            "cell_type": "code",
            "source": "            n_columns = 0\n            n_rows=0\n            column_names = []\n    \n            # Find number of rows and columns\n            # we also find the column titles if we can\n            for row in table.find_all('tr'):\n                \n                # Determine the number of rows in the table\n                td_tags = row.find_all('td')\n                if len(td_tags) > 0:\n                    n_rows+=1\n                    if n_columns == 0:\n                        # Set the number of columns for our table\n                        n_columns = len(td_tags)\n                        \n                # Handle column names if we find them\n                th_tags = row.find_all('th') \n                if len(th_tags) > 0 and len(column_names) == 0:\n                    for th in th_tags:\n                        column_names.append(th.get_text().strip())\n    \n            # Safeguard on Column Titles\n            if len(column_names) > 0 and len(column_names) != n_columns:\n                raise Exception(\"Column titles do not match the number of columns\")\n    \n            columns = column_names if len(column_names) > 0 else range(0,n_columns)\n            df = pd.DataFrame(columns = columns,\n                              index= range(0,n_rows))\n            row_marker = 0\n            for row in table.find_all('tr'):\n                column_marker = 0\n                columns = row.find_all('td')\n                for column in columns:\n                    df.iat[row_marker,column_marker] = column.get_text().strip()\n                    column_marker += 1\n                if len(columns) > 0:\n                    row_marker += 1\n                    \n                       \n                ",
            "execution_count": 5,
            "outputs": []
        },
        {
            "metadata": {},
            "cell_type": "code",
            "source": "df.head(10)",
            "execution_count": 6,
            "outputs": [
                {
                    "output_type": "execute_result",
                    "execution_count": 6,
                    "data": {
                        "text/plain": "  Postcode           Borough     Neighbourhood\n0      M1A      Not assigned      Not assigned\n1      M2A      Not assigned      Not assigned\n2      M3A        North York         Parkwoods\n3      M4A        North York  Victoria Village\n4      M5A  Downtown Toronto      Harbourfront\n5      M6A        North York  Lawrence Heights\n6      M6A        North York    Lawrence Manor\n7      M7A  Downtown Toronto      Queen's Park\n8      M8A      Not assigned      Not assigned\n9      M9A      Queen's Park      Not assigned",
                        "text/html": "<div>\n<style scoped>\n    .dataframe tbody tr th:only-of-type {\n        vertical-align: middle;\n    }\n\n    .dataframe tbody tr th {\n        vertical-align: top;\n    }\n\n    .dataframe thead th {\n        text-align: right;\n    }\n</style>\n<table border=\"1\" class=\"dataframe\">\n  <thead>\n    <tr style=\"text-align: right;\">\n      <th></th>\n      <th>Postcode</th>\n      <th>Borough</th>\n      <th>Neighbourhood</th>\n    </tr>\n  </thead>\n  <tbody>\n    <tr>\n      <th>0</th>\n      <td>M1A</td>\n      <td>Not assigned</td>\n      <td>Not assigned</td>\n    </tr>\n    <tr>\n      <th>1</th>\n      <td>M2A</td>\n      <td>Not assigned</td>\n      <td>Not assigned</td>\n    </tr>\n    <tr>\n      <th>2</th>\n      <td>M3A</td>\n      <td>North York</td>\n      <td>Parkwoods</td>\n    </tr>\n    <tr>\n      <th>3</th>\n      <td>M4A</td>\n      <td>North York</td>\n      <td>Victoria Village</td>\n    </tr>\n    <tr>\n      <th>4</th>\n      <td>M5A</td>\n      <td>Downtown Toronto</td>\n      <td>Harbourfront</td>\n    </tr>\n    <tr>\n      <th>5</th>\n      <td>M6A</td>\n      <td>North York</td>\n      <td>Lawrence Heights</td>\n    </tr>\n    <tr>\n      <th>6</th>\n      <td>M6A</td>\n      <td>North York</td>\n      <td>Lawrence Manor</td>\n    </tr>\n    <tr>\n      <th>7</th>\n      <td>M7A</td>\n      <td>Downtown Toronto</td>\n      <td>Queen's Park</td>\n    </tr>\n    <tr>\n      <th>8</th>\n      <td>M8A</td>\n      <td>Not assigned</td>\n      <td>Not assigned</td>\n    </tr>\n    <tr>\n      <th>9</th>\n      <td>M9A</td>\n      <td>Queen's Park</td>\n      <td>Not assigned</td>\n    </tr>\n  </tbody>\n</table>\n</div>"
                    },
                    "metadata": {}
                }
            ]
        },
        {
            "metadata": {},
            "cell_type": "markdown",
            "source": "### We look for any cases where Neighbourhood is 'Not assigned' but we have a 'Borough' value"
        },
        {
            "metadata": {},
            "cell_type": "code",
            "source": "dfx=df.loc[(df['Neighbourhood']=='Not assigned') & (df['Borough'] != 'Not assigned')]\ndfx",
            "execution_count": 7,
            "outputs": [
                {
                    "output_type": "execute_result",
                    "execution_count": 7,
                    "data": {
                        "text/plain": "  Postcode       Borough Neighbourhood\n9      M9A  Queen's Park  Not assigned",
                        "text/html": "<div>\n<style scoped>\n    .dataframe tbody tr th:only-of-type {\n        vertical-align: middle;\n    }\n\n    .dataframe tbody tr th {\n        vertical-align: top;\n    }\n\n    .dataframe thead th {\n        text-align: right;\n    }\n</style>\n<table border=\"1\" class=\"dataframe\">\n  <thead>\n    <tr style=\"text-align: right;\">\n      <th></th>\n      <th>Postcode</th>\n      <th>Borough</th>\n      <th>Neighbourhood</th>\n    </tr>\n  </thead>\n  <tbody>\n    <tr>\n      <th>9</th>\n      <td>M9A</td>\n      <td>Queen's Park</td>\n      <td>Not assigned</td>\n    </tr>\n  </tbody>\n</table>\n</div>"
                    },
                    "metadata": {}
                }
            ]
        },
        {
            "metadata": {},
            "cell_type": "markdown",
            "source": "### We fix this special case"
        },
        {
            "metadata": {},
            "cell_type": "code",
            "source": "#dfx.index[0]\ndf.at[dfx.index[0],'Neighbourhood']=dfx.at[dfx.index[0],'Borough']\n",
            "execution_count": 8,
            "outputs": []
        },
        {
            "metadata": {},
            "cell_type": "markdown",
            "source": "### And we verified that's fixed by looking at 9"
        },
        {
            "metadata": {},
            "cell_type": "code",
            "source": "df.head(10)",
            "execution_count": 9,
            "outputs": [
                {
                    "output_type": "execute_result",
                    "execution_count": 9,
                    "data": {
                        "text/plain": "  Postcode           Borough     Neighbourhood\n0      M1A      Not assigned      Not assigned\n1      M2A      Not assigned      Not assigned\n2      M3A        North York         Parkwoods\n3      M4A        North York  Victoria Village\n4      M5A  Downtown Toronto      Harbourfront\n5      M6A        North York  Lawrence Heights\n6      M6A        North York    Lawrence Manor\n7      M7A  Downtown Toronto      Queen's Park\n8      M8A      Not assigned      Not assigned\n9      M9A      Queen's Park      Queen's Park",
                        "text/html": "<div>\n<style scoped>\n    .dataframe tbody tr th:only-of-type {\n        vertical-align: middle;\n    }\n\n    .dataframe tbody tr th {\n        vertical-align: top;\n    }\n\n    .dataframe thead th {\n        text-align: right;\n    }\n</style>\n<table border=\"1\" class=\"dataframe\">\n  <thead>\n    <tr style=\"text-align: right;\">\n      <th></th>\n      <th>Postcode</th>\n      <th>Borough</th>\n      <th>Neighbourhood</th>\n    </tr>\n  </thead>\n  <tbody>\n    <tr>\n      <th>0</th>\n      <td>M1A</td>\n      <td>Not assigned</td>\n      <td>Not assigned</td>\n    </tr>\n    <tr>\n      <th>1</th>\n      <td>M2A</td>\n      <td>Not assigned</td>\n      <td>Not assigned</td>\n    </tr>\n    <tr>\n      <th>2</th>\n      <td>M3A</td>\n      <td>North York</td>\n      <td>Parkwoods</td>\n    </tr>\n    <tr>\n      <th>3</th>\n      <td>M4A</td>\n      <td>North York</td>\n      <td>Victoria Village</td>\n    </tr>\n    <tr>\n      <th>4</th>\n      <td>M5A</td>\n      <td>Downtown Toronto</td>\n      <td>Harbourfront</td>\n    </tr>\n    <tr>\n      <th>5</th>\n      <td>M6A</td>\n      <td>North York</td>\n      <td>Lawrence Heights</td>\n    </tr>\n    <tr>\n      <th>6</th>\n      <td>M6A</td>\n      <td>North York</td>\n      <td>Lawrence Manor</td>\n    </tr>\n    <tr>\n      <th>7</th>\n      <td>M7A</td>\n      <td>Downtown Toronto</td>\n      <td>Queen's Park</td>\n    </tr>\n    <tr>\n      <th>8</th>\n      <td>M8A</td>\n      <td>Not assigned</td>\n      <td>Not assigned</td>\n    </tr>\n    <tr>\n      <th>9</th>\n      <td>M9A</td>\n      <td>Queen's Park</td>\n      <td>Queen's Park</td>\n    </tr>\n  </tbody>\n</table>\n</div>"
                    },
                    "metadata": {}
                }
            ]
        },
        {
            "metadata": {},
            "cell_type": "markdown",
            "source": "### Now we can drop the rows that still have Borough == \"Not assigned\""
        },
        {
            "metadata": {},
            "cell_type": "code",
            "source": "#df2.drop_duplicates(subset=\"Neighbourhood\",keep=False,inplace=True)\ndf.drop(df[df.Borough==\"Not assigned\"].index,inplace=True)\n\ndf.head()",
            "execution_count": 10,
            "outputs": [
                {
                    "output_type": "execute_result",
                    "execution_count": 10,
                    "data": {
                        "text/plain": "  Postcode           Borough     Neighbourhood\n2      M3A        North York         Parkwoods\n3      M4A        North York  Victoria Village\n4      M5A  Downtown Toronto      Harbourfront\n5      M6A        North York  Lawrence Heights\n6      M6A        North York    Lawrence Manor",
                        "text/html": "<div>\n<style scoped>\n    .dataframe tbody tr th:only-of-type {\n        vertical-align: middle;\n    }\n\n    .dataframe tbody tr th {\n        vertical-align: top;\n    }\n\n    .dataframe thead th {\n        text-align: right;\n    }\n</style>\n<table border=\"1\" class=\"dataframe\">\n  <thead>\n    <tr style=\"text-align: right;\">\n      <th></th>\n      <th>Postcode</th>\n      <th>Borough</th>\n      <th>Neighbourhood</th>\n    </tr>\n  </thead>\n  <tbody>\n    <tr>\n      <th>2</th>\n      <td>M3A</td>\n      <td>North York</td>\n      <td>Parkwoods</td>\n    </tr>\n    <tr>\n      <th>3</th>\n      <td>M4A</td>\n      <td>North York</td>\n      <td>Victoria Village</td>\n    </tr>\n    <tr>\n      <th>4</th>\n      <td>M5A</td>\n      <td>Downtown Toronto</td>\n      <td>Harbourfront</td>\n    </tr>\n    <tr>\n      <th>5</th>\n      <td>M6A</td>\n      <td>North York</td>\n      <td>Lawrence Heights</td>\n    </tr>\n    <tr>\n      <th>6</th>\n      <td>M6A</td>\n      <td>North York</td>\n      <td>Lawrence Manor</td>\n    </tr>\n  </tbody>\n</table>\n</div>"
                    },
                    "metadata": {}
                }
            ]
        },
        {
            "metadata": {},
            "cell_type": "markdown",
            "source": "### We can now group the neighbourhoods that share the same Borough and Postcode"
        },
        {
            "metadata": {},
            "cell_type": "code",
            "source": "df = df.groupby(['Postcode','Borough']).agg(','.join)\n\ndf.head()",
            "execution_count": 11,
            "outputs": [
                {
                    "output_type": "execute_result",
                    "execution_count": 11,
                    "data": {
                        "text/plain": "                                             Neighbourhood\nPostcode Borough                                          \nM1B      Scarborough                         Rouge,Malvern\nM1C      Scarborough  Highland Creek,Rouge Hill,Port Union\nM1E      Scarborough       Guildwood,Morningside,West Hill\nM1G      Scarborough                                Woburn\nM1H      Scarborough                             Cedarbrae",
                        "text/html": "<div>\n<style scoped>\n    .dataframe tbody tr th:only-of-type {\n        vertical-align: middle;\n    }\n\n    .dataframe tbody tr th {\n        vertical-align: top;\n    }\n\n    .dataframe thead th {\n        text-align: right;\n    }\n</style>\n<table border=\"1\" class=\"dataframe\">\n  <thead>\n    <tr style=\"text-align: right;\">\n      <th></th>\n      <th></th>\n      <th>Neighbourhood</th>\n    </tr>\n    <tr>\n      <th>Postcode</th>\n      <th>Borough</th>\n      <th></th>\n    </tr>\n  </thead>\n  <tbody>\n    <tr>\n      <th>M1B</th>\n      <th>Scarborough</th>\n      <td>Rouge,Malvern</td>\n    </tr>\n    <tr>\n      <th>M1C</th>\n      <th>Scarborough</th>\n      <td>Highland Creek,Rouge Hill,Port Union</td>\n    </tr>\n    <tr>\n      <th>M1E</th>\n      <th>Scarborough</th>\n      <td>Guildwood,Morningside,West Hill</td>\n    </tr>\n    <tr>\n      <th>M1G</th>\n      <th>Scarborough</th>\n      <td>Woburn</td>\n    </tr>\n    <tr>\n      <th>M1H</th>\n      <th>Scarborough</th>\n      <td>Cedarbrae</td>\n    </tr>\n  </tbody>\n</table>\n</div>"
                    },
                    "metadata": {}
                }
            ]
        },
        {
            "metadata": {},
            "cell_type": "code",
            "source": "df.reset_index()",
            "execution_count": 12,
            "outputs": [
                {
                    "output_type": "execute_result",
                    "execution_count": 12,
                    "data": {
                        "text/plain": "    Postcode           Borough  \\\n0        M1B       Scarborough   \n1        M1C       Scarborough   \n2        M1E       Scarborough   \n3        M1G       Scarborough   \n4        M1H       Scarborough   \n5        M1J       Scarborough   \n6        M1K       Scarborough   \n7        M1L       Scarborough   \n8        M1M       Scarborough   \n9        M1N       Scarborough   \n10       M1P       Scarborough   \n11       M1R       Scarborough   \n12       M1S       Scarborough   \n13       M1T       Scarborough   \n14       M1V       Scarborough   \n15       M1W       Scarborough   \n16       M1X       Scarborough   \n17       M2H        North York   \n18       M2J        North York   \n19       M2K        North York   \n20       M2L        North York   \n21       M2M        North York   \n22       M2N        North York   \n23       M2P        North York   \n24       M2R        North York   \n25       M3A        North York   \n26       M3B        North York   \n27       M3C        North York   \n28       M3H        North York   \n29       M3J        North York   \n..       ...               ...   \n73       M6C              York   \n74       M6E              York   \n75       M6G  Downtown Toronto   \n76       M6H      West Toronto   \n77       M6J      West Toronto   \n78       M6K      West Toronto   \n79       M6L        North York   \n80       M6M              York   \n81       M6N              York   \n82       M6P      West Toronto   \n83       M6R      West Toronto   \n84       M6S      West Toronto   \n85       M7A  Downtown Toronto   \n86       M7R       Mississauga   \n87       M7Y      East Toronto   \n88       M8V         Etobicoke   \n89       M8W         Etobicoke   \n90       M8X         Etobicoke   \n91       M8Y         Etobicoke   \n92       M8Z         Etobicoke   \n93       M9A      Queen's Park   \n94       M9B         Etobicoke   \n95       M9C         Etobicoke   \n96       M9L        North York   \n97       M9M        North York   \n98       M9N              York   \n99       M9P         Etobicoke   \n100      M9R         Etobicoke   \n101      M9V         Etobicoke   \n102      M9W         Etobicoke   \n\n                                         Neighbourhood  \n0                                        Rouge,Malvern  \n1                 Highland Creek,Rouge Hill,Port Union  \n2                      Guildwood,Morningside,West Hill  \n3                                               Woburn  \n4                                            Cedarbrae  \n5                                  Scarborough Village  \n6            East Birchmount Park,Ionview,Kennedy Park  \n7                        Clairlea,Golden Mile,Oakridge  \n8        Cliffcrest,Cliffside,Scarborough Village West  \n9                           Birch Cliff,Cliffside West  \n10   Dorset Park,Scarborough Town Centre,Wexford He...  \n11                                    Maryvale,Wexford  \n12                                           Agincourt  \n13               Clarks Corners,Sullivan,Tam O'Shanter  \n14   Agincourt North,L'Amoreaux East,Milliken,Steel...  \n15                                     L'Amoreaux West  \n16                                         Upper Rouge  \n17                                   Hillcrest Village  \n18                          Fairview,Henry Farm,Oriole  \n19                                     Bayview Village  \n20                             Silver Hills,York Mills  \n21                              Newtonbrook,Willowdale  \n22                                    Willowdale South  \n23                                     York Mills West  \n24                                     Willowdale West  \n25                                           Parkwoods  \n26                                     Don Mills North  \n27                     Flemingdon Park,Don Mills South  \n28       Bathurst Manor,Downsview North,Wilson Heights  \n29                      Northwood Park,York University  \n..                                                 ...  \n73                                  Humewood-Cedarvale  \n74                                 Caledonia-Fairbanks  \n75                                            Christie  \n76                         Dovercourt Village,Dufferin  \n77                             Little Portugal,Trinity  \n78          Brockton,Exhibition Place,Parkdale Village  \n79                    Downsview,North Park,Upwood Park  \n80         Del Ray,Keelesdale,Mount Dennis,Silverthorn  \n81                        The Junction North,Runnymede  \n82                        High Park,The Junction South  \n83                               Parkdale,Roncesvalles  \n84                                   Runnymede,Swansea  \n85                                        Queen's Park  \n86               Canada Post Gateway Processing Centre  \n87   Business Reply Mail Processing Centre 969 Eastern  \n88          Humber Bay Shores,Mimico South,New Toronto  \n89                               Alderwood,Long Branch  \n90         The Kingsway,Montgomery Road,Old Mill North  \n91   Humber Bay,King's Mill Park,Kingsway Park Sout...  \n92   Kingsway Park South West,Mimico NW,The Queensw...  \n93                                        Queen's Park  \n94   Cloverdale,Islington,Martin Grove,Princess Gar...  \n95   Bloordale Gardens,Eringate,Markland Wood,Old B...  \n96                                       Humber Summit  \n97                                     Emery,Humberlea  \n98                                              Weston  \n99                                           Westmount  \n100  Kingsview Village,Martin Grove Gardens,Richvie...  \n101  Albion Gardens,Beaumond Heights,Humbergate,Jam...  \n102                                          Northwest  \n\n[103 rows x 3 columns]",
                        "text/html": "<div>\n<style scoped>\n    .dataframe tbody tr th:only-of-type {\n        vertical-align: middle;\n    }\n\n    .dataframe tbody tr th {\n        vertical-align: top;\n    }\n\n    .dataframe thead th {\n        text-align: right;\n    }\n</style>\n<table border=\"1\" class=\"dataframe\">\n  <thead>\n    <tr style=\"text-align: right;\">\n      <th></th>\n      <th>Postcode</th>\n      <th>Borough</th>\n      <th>Neighbourhood</th>\n    </tr>\n  </thead>\n  <tbody>\n    <tr>\n      <th>0</th>\n      <td>M1B</td>\n      <td>Scarborough</td>\n      <td>Rouge,Malvern</td>\n    </tr>\n    <tr>\n      <th>1</th>\n      <td>M1C</td>\n      <td>Scarborough</td>\n      <td>Highland Creek,Rouge Hill,Port Union</td>\n    </tr>\n    <tr>\n      <th>2</th>\n      <td>M1E</td>\n      <td>Scarborough</td>\n      <td>Guildwood,Morningside,West Hill</td>\n    </tr>\n    <tr>\n      <th>3</th>\n      <td>M1G</td>\n      <td>Scarborough</td>\n      <td>Woburn</td>\n    </tr>\n    <tr>\n      <th>4</th>\n      <td>M1H</td>\n      <td>Scarborough</td>\n      <td>Cedarbrae</td>\n    </tr>\n    <tr>\n      <th>5</th>\n      <td>M1J</td>\n      <td>Scarborough</td>\n      <td>Scarborough Village</td>\n    </tr>\n    <tr>\n      <th>6</th>\n      <td>M1K</td>\n      <td>Scarborough</td>\n      <td>East Birchmount Park,Ionview,Kennedy Park</td>\n    </tr>\n    <tr>\n      <th>7</th>\n      <td>M1L</td>\n      <td>Scarborough</td>\n      <td>Clairlea,Golden Mile,Oakridge</td>\n    </tr>\n    <tr>\n      <th>8</th>\n      <td>M1M</td>\n      <td>Scarborough</td>\n      <td>Cliffcrest,Cliffside,Scarborough Village West</td>\n    </tr>\n    <tr>\n      <th>9</th>\n      <td>M1N</td>\n      <td>Scarborough</td>\n      <td>Birch Cliff,Cliffside West</td>\n    </tr>\n    <tr>\n      <th>10</th>\n      <td>M1P</td>\n      <td>Scarborough</td>\n      <td>Dorset Park,Scarborough Town Centre,Wexford He...</td>\n    </tr>\n    <tr>\n      <th>11</th>\n      <td>M1R</td>\n      <td>Scarborough</td>\n      <td>Maryvale,Wexford</td>\n    </tr>\n    <tr>\n      <th>12</th>\n      <td>M1S</td>\n      <td>Scarborough</td>\n      <td>Agincourt</td>\n    </tr>\n    <tr>\n      <th>13</th>\n      <td>M1T</td>\n      <td>Scarborough</td>\n      <td>Clarks Corners,Sullivan,Tam O'Shanter</td>\n    </tr>\n    <tr>\n      <th>14</th>\n      <td>M1V</td>\n      <td>Scarborough</td>\n      <td>Agincourt North,L'Amoreaux East,Milliken,Steel...</td>\n    </tr>\n    <tr>\n      <th>15</th>\n      <td>M1W</td>\n      <td>Scarborough</td>\n      <td>L'Amoreaux West</td>\n    </tr>\n    <tr>\n      <th>16</th>\n      <td>M1X</td>\n      <td>Scarborough</td>\n      <td>Upper Rouge</td>\n    </tr>\n    <tr>\n      <th>17</th>\n      <td>M2H</td>\n      <td>North York</td>\n      <td>Hillcrest Village</td>\n    </tr>\n    <tr>\n      <th>18</th>\n      <td>M2J</td>\n      <td>North York</td>\n      <td>Fairview,Henry Farm,Oriole</td>\n    </tr>\n    <tr>\n      <th>19</th>\n      <td>M2K</td>\n      <td>North York</td>\n      <td>Bayview Village</td>\n    </tr>\n    <tr>\n      <th>20</th>\n      <td>M2L</td>\n      <td>North York</td>\n      <td>Silver Hills,York Mills</td>\n    </tr>\n    <tr>\n      <th>21</th>\n      <td>M2M</td>\n      <td>North York</td>\n      <td>Newtonbrook,Willowdale</td>\n    </tr>\n    <tr>\n      <th>22</th>\n      <td>M2N</td>\n      <td>North York</td>\n      <td>Willowdale South</td>\n    </tr>\n    <tr>\n      <th>23</th>\n      <td>M2P</td>\n      <td>North York</td>\n      <td>York Mills West</td>\n    </tr>\n    <tr>\n      <th>24</th>\n      <td>M2R</td>\n      <td>North York</td>\n      <td>Willowdale West</td>\n    </tr>\n    <tr>\n      <th>25</th>\n      <td>M3A</td>\n      <td>North York</td>\n      <td>Parkwoods</td>\n    </tr>\n    <tr>\n      <th>26</th>\n      <td>M3B</td>\n      <td>North York</td>\n      <td>Don Mills North</td>\n    </tr>\n    <tr>\n      <th>27</th>\n      <td>M3C</td>\n      <td>North York</td>\n      <td>Flemingdon Park,Don Mills South</td>\n    </tr>\n    <tr>\n      <th>28</th>\n      <td>M3H</td>\n      <td>North York</td>\n      <td>Bathurst Manor,Downsview North,Wilson Heights</td>\n    </tr>\n    <tr>\n      <th>29</th>\n      <td>M3J</td>\n      <td>North York</td>\n      <td>Northwood Park,York University</td>\n    </tr>\n    <tr>\n      <th>...</th>\n      <td>...</td>\n      <td>...</td>\n      <td>...</td>\n    </tr>\n    <tr>\n      <th>73</th>\n      <td>M6C</td>\n      <td>York</td>\n      <td>Humewood-Cedarvale</td>\n    </tr>\n    <tr>\n      <th>74</th>\n      <td>M6E</td>\n      <td>York</td>\n      <td>Caledonia-Fairbanks</td>\n    </tr>\n    <tr>\n      <th>75</th>\n      <td>M6G</td>\n      <td>Downtown Toronto</td>\n      <td>Christie</td>\n    </tr>\n    <tr>\n      <th>76</th>\n      <td>M6H</td>\n      <td>West Toronto</td>\n      <td>Dovercourt Village,Dufferin</td>\n    </tr>\n    <tr>\n      <th>77</th>\n      <td>M6J</td>\n      <td>West Toronto</td>\n      <td>Little Portugal,Trinity</td>\n    </tr>\n    <tr>\n      <th>78</th>\n      <td>M6K</td>\n      <td>West Toronto</td>\n      <td>Brockton,Exhibition Place,Parkdale Village</td>\n    </tr>\n    <tr>\n      <th>79</th>\n      <td>M6L</td>\n      <td>North York</td>\n      <td>Downsview,North Park,Upwood Park</td>\n    </tr>\n    <tr>\n      <th>80</th>\n      <td>M6M</td>\n      <td>York</td>\n      <td>Del Ray,Keelesdale,Mount Dennis,Silverthorn</td>\n    </tr>\n    <tr>\n      <th>81</th>\n      <td>M6N</td>\n      <td>York</td>\n      <td>The Junction North,Runnymede</td>\n    </tr>\n    <tr>\n      <th>82</th>\n      <td>M6P</td>\n      <td>West Toronto</td>\n      <td>High Park,The Junction South</td>\n    </tr>\n    <tr>\n      <th>83</th>\n      <td>M6R</td>\n      <td>West Toronto</td>\n      <td>Parkdale,Roncesvalles</td>\n    </tr>\n    <tr>\n      <th>84</th>\n      <td>M6S</td>\n      <td>West Toronto</td>\n      <td>Runnymede,Swansea</td>\n    </tr>\n    <tr>\n      <th>85</th>\n      <td>M7A</td>\n      <td>Downtown Toronto</td>\n      <td>Queen's Park</td>\n    </tr>\n    <tr>\n      <th>86</th>\n      <td>M7R</td>\n      <td>Mississauga</td>\n      <td>Canada Post Gateway Processing Centre</td>\n    </tr>\n    <tr>\n      <th>87</th>\n      <td>M7Y</td>\n      <td>East Toronto</td>\n      <td>Business Reply Mail Processing Centre 969 Eastern</td>\n    </tr>\n    <tr>\n      <th>88</th>\n      <td>M8V</td>\n      <td>Etobicoke</td>\n      <td>Humber Bay Shores,Mimico South,New Toronto</td>\n    </tr>\n    <tr>\n      <th>89</th>\n      <td>M8W</td>\n      <td>Etobicoke</td>\n      <td>Alderwood,Long Branch</td>\n    </tr>\n    <tr>\n      <th>90</th>\n      <td>M8X</td>\n      <td>Etobicoke</td>\n      <td>The Kingsway,Montgomery Road,Old Mill North</td>\n    </tr>\n    <tr>\n      <th>91</th>\n      <td>M8Y</td>\n      <td>Etobicoke</td>\n      <td>Humber Bay,King's Mill Park,Kingsway Park Sout...</td>\n    </tr>\n    <tr>\n      <th>92</th>\n      <td>M8Z</td>\n      <td>Etobicoke</td>\n      <td>Kingsway Park South West,Mimico NW,The Queensw...</td>\n    </tr>\n    <tr>\n      <th>93</th>\n      <td>M9A</td>\n      <td>Queen's Park</td>\n      <td>Queen's Park</td>\n    </tr>\n    <tr>\n      <th>94</th>\n      <td>M9B</td>\n      <td>Etobicoke</td>\n      <td>Cloverdale,Islington,Martin Grove,Princess Gar...</td>\n    </tr>\n    <tr>\n      <th>95</th>\n      <td>M9C</td>\n      <td>Etobicoke</td>\n      <td>Bloordale Gardens,Eringate,Markland Wood,Old B...</td>\n    </tr>\n    <tr>\n      <th>96</th>\n      <td>M9L</td>\n      <td>North York</td>\n      <td>Humber Summit</td>\n    </tr>\n    <tr>\n      <th>97</th>\n      <td>M9M</td>\n      <td>North York</td>\n      <td>Emery,Humberlea</td>\n    </tr>\n    <tr>\n      <th>98</th>\n      <td>M9N</td>\n      <td>York</td>\n      <td>Weston</td>\n    </tr>\n    <tr>\n      <th>99</th>\n      <td>M9P</td>\n      <td>Etobicoke</td>\n      <td>Westmount</td>\n    </tr>\n    <tr>\n      <th>100</th>\n      <td>M9R</td>\n      <td>Etobicoke</td>\n      <td>Kingsview Village,Martin Grove Gardens,Richvie...</td>\n    </tr>\n    <tr>\n      <th>101</th>\n      <td>M9V</td>\n      <td>Etobicoke</td>\n      <td>Albion Gardens,Beaumond Heights,Humbergate,Jam...</td>\n    </tr>\n    <tr>\n      <th>102</th>\n      <td>M9W</td>\n      <td>Etobicoke</td>\n      <td>Northwest</td>\n    </tr>\n  </tbody>\n</table>\n<p>103 rows \u00d7 3 columns</p>\n</div>"
                    },
                    "metadata": {}
                }
            ]
        },
        {
            "metadata": {},
            "cell_type": "code",
            "source": "df.shape",
            "execution_count": 13,
            "outputs": [
                {
                    "output_type": "execute_result",
                    "execution_count": 13,
                    "data": {
                        "text/plain": "(103, 1)"
                    },
                    "metadata": {}
                }
            ]
        },
        {
            "metadata": {},
            "cell_type": "code",
            "source": "",
            "execution_count": null,
            "outputs": []
        }
    ],
    "metadata": {
        "kernelspec": {
            "name": "python3",
            "display_name": "Python 3.6",
            "language": "python"
        },
        "language_info": {
            "name": "python",
            "version": "3.6.9",
            "mimetype": "text/x-python",
            "codemirror_mode": {
                "name": "ipython",
                "version": 3
            },
            "pygments_lexer": "ipython3",
            "nbconvert_exporter": "python",
            "file_extension": ".py"
        }
    },
    "nbformat": 4,
    "nbformat_minor": 1
}